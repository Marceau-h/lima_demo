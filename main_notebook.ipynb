{
 "cells": [
  {
   "cell_type": "code",
   "execution_count": null,
   "metadata": {
    "collapsed": true
   },
   "outputs": [],
   "source": [
    "from main import lima\n",
    "\n",
    "from http.client import HTTPSConnection\n",
    "from pathlib import Path\n",
    "\n",
    "import pandas as pd\n",
    "from tqdm.auto import tqdm\n",
    "\n",
    "\n",
    "conn = HTTPSConnection(\"www.example.com\")  # A CHANGER POUR SE CONNECTER AU SERVEUR LIMA\n",
    "lang = \"fra\"  # CHOISIR LA LANGUE\n",
    "FILE_TO_TOKENIZE = \"phrases.txt\"  # SELECTIONNER LE FICHIER A TRAITER\n",
    "\n",
    "\n",
    "file = Path(FILE_TO_TOKENIZE)\n",
    "resultats = Path(\"resultats\") / file.stem\n",
    "resultats.mkdir(exist_ok=True, parents=True)\n",
    "\n",
    "entete = [\"ID\", \"FORM\", \"LEMMA\", \"UPOS\", \"XPOS\", \"FEATS\", \"HEAD\", \"DEPREL\", \"DEPS\", \"MISC\"]\n",
    "\n",
    "payloads = file.read_text().splitlines()\n",
    "\n",
    "for i, payload in enumerate(tqdm(payloads)):\n",
    "    payload = payload.encode(\"utf-8\")\n",
    "\n",
    "    res = lima(conn=conn, lang=lang, payload=payload)\n",
    "\n",
    "    x = [entete] + [line.split(\"\\t\") for line in res if (line and line[0].isdigit())]\n",
    "\n",
    "    pd.DataFrame(x[1:], columns=x[0]).to_csv(resultats / f\"{i}.csv\", index=False)\n",
    "\n"
   ]
  }
 ],
 "metadata": {
  "kernelspec": {
   "display_name": "Python 3",
   "language": "python",
   "name": "python3"
  },
  "language_info": {
   "codemirror_mode": {
    "name": "ipython",
    "version": 2
   },
   "file_extension": ".py",
   "mimetype": "text/x-python",
   "name": "python",
   "nbconvert_exporter": "python",
   "pygments_lexer": "ipython2",
   "version": "2.7.6"
  }
 },
 "nbformat": 4,
 "nbformat_minor": 0
}
